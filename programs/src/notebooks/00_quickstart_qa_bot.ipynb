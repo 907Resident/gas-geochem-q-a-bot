{
 "cells": [
  {
   "attachments": {},
   "cell_type": "markdown",
   "metadata": {},
   "source": [
    "# 00_quickstart_qa_bot\n",
    "\n",
    "This notebook follows a [tutorial](https://langchain.readthedocs.io/en/latest/modules/indexes/chain_examples/qa_with_sources.html) on how to build a bot that provides answers to questions using the `langchain` platform."
   ]
  },
  {
   "attachments": {},
   "cell_type": "markdown",
   "metadata": {},
   "source": [
    "## 0. Install Packages and Modules"
   ]
  },
  {
   "attachments": {},
   "cell_type": "markdown",
   "metadata": {},
   "source": [
    "### 0.1 Install non-traditional packages\n",
    "\n",
    "Packages that are required to run the notebook but are unlikely to be included in standard environments."
   ]
  },
  {
   "cell_type": "code",
   "execution_count": 18,
   "metadata": {},
   "outputs": [
    {
     "name": "stdout",
     "output_type": "stream",
     "text": [
      "Requirement already satisfied: langchain in /Users/moyoajayi/miniforge3/envs/env-langchain/lib/python3.8/site-packages (0.0.102)\n",
      "Requirement already satisfied: requests<3,>=2 in /Users/moyoajayi/miniforge3/envs/env-langchain/lib/python3.8/site-packages (from langchain) (2.28.1)\n",
      "Requirement already satisfied: dataclasses-json<0.6.0,>=0.5.7 in /Users/moyoajayi/miniforge3/envs/env-langchain/lib/python3.8/site-packages (from langchain) (0.5.7)\n",
      "Requirement already satisfied: pydantic<2,>=1 in /Users/moyoajayi/miniforge3/envs/env-langchain/lib/python3.8/site-packages (from langchain) (1.10.5)\n",
      "Requirement already satisfied: SQLAlchemy<2,>=1 in /Users/moyoajayi/miniforge3/envs/env-langchain/lib/python3.8/site-packages (from langchain) (1.4.46)\n",
      "Requirement already satisfied: tenacity<9.0.0,>=8.1.0 in /Users/moyoajayi/miniforge3/envs/env-langchain/lib/python3.8/site-packages (from langchain) (8.2.2)\n",
      "Requirement already satisfied: aiohttp<4.0.0,>=3.8.3 in /Users/moyoajayi/miniforge3/envs/env-langchain/lib/python3.8/site-packages (from langchain) (3.8.3)\n",
      "Requirement already satisfied: PyYAML<7,>=6 in /Users/moyoajayi/miniforge3/envs/env-langchain/lib/python3.8/site-packages (from langchain) (6.0)\n",
      "Requirement already satisfied: numpy<2,>=1 in /Users/moyoajayi/miniforge3/envs/env-langchain/lib/python3.8/site-packages (from langchain) (1.23.4)\n",
      "Requirement already satisfied: charset-normalizer<3.0,>=2.0 in /Users/moyoajayi/miniforge3/envs/env-langchain/lib/python3.8/site-packages (from aiohttp<4.0.0,>=3.8.3->langchain) (2.1.1)\n",
      "Requirement already satisfied: frozenlist>=1.1.1 in /Users/moyoajayi/miniforge3/envs/env-langchain/lib/python3.8/site-packages (from aiohttp<4.0.0,>=3.8.3->langchain) (1.3.3)\n",
      "Requirement already satisfied: aiosignal>=1.1.2 in /Users/moyoajayi/miniforge3/envs/env-langchain/lib/python3.8/site-packages (from aiohttp<4.0.0,>=3.8.3->langchain) (1.2.0)\n",
      "Requirement already satisfied: attrs>=17.3.0 in /Users/moyoajayi/miniforge3/envs/env-langchain/lib/python3.8/site-packages (from aiohttp<4.0.0,>=3.8.3->langchain) (22.1.0)\n",
      "Requirement already satisfied: async-timeout<5.0,>=4.0.0a3 in /Users/moyoajayi/miniforge3/envs/env-langchain/lib/python3.8/site-packages (from aiohttp<4.0.0,>=3.8.3->langchain) (4.0.2)\n",
      "Requirement already satisfied: yarl<2.0,>=1.0 in /Users/moyoajayi/miniforge3/envs/env-langchain/lib/python3.8/site-packages (from aiohttp<4.0.0,>=3.8.3->langchain) (1.8.1)\n",
      "Requirement already satisfied: multidict<7.0,>=4.5 in /Users/moyoajayi/miniforge3/envs/env-langchain/lib/python3.8/site-packages (from aiohttp<4.0.0,>=3.8.3->langchain) (6.0.2)\n",
      "Requirement already satisfied: marshmallow-enum<2.0.0,>=1.5.1 in /Users/moyoajayi/miniforge3/envs/env-langchain/lib/python3.8/site-packages (from dataclasses-json<0.6.0,>=0.5.7->langchain) (1.5.1)\n",
      "Requirement already satisfied: marshmallow<4.0.0,>=3.3.0 in /Users/moyoajayi/miniforge3/envs/env-langchain/lib/python3.8/site-packages (from dataclasses-json<0.6.0,>=0.5.7->langchain) (3.19.0)\n",
      "Requirement already satisfied: typing-inspect>=0.4.0 in /Users/moyoajayi/miniforge3/envs/env-langchain/lib/python3.8/site-packages (from dataclasses-json<0.6.0,>=0.5.7->langchain) (0.8.0)\n",
      "Requirement already satisfied: typing-extensions>=4.2.0 in /Users/moyoajayi/miniforge3/envs/env-langchain/lib/python3.8/site-packages (from pydantic<2,>=1->langchain) (4.4.0)\n",
      "Requirement already satisfied: idna<4,>=2.5 in /Users/moyoajayi/miniforge3/envs/env-langchain/lib/python3.8/site-packages (from requests<3,>=2->langchain) (3.4)\n",
      "Requirement already satisfied: certifi>=2017.4.17 in /Users/moyoajayi/miniforge3/envs/env-langchain/lib/python3.8/site-packages (from requests<3,>=2->langchain) (2022.12.7)\n",
      "Requirement already satisfied: urllib3<1.27,>=1.21.1 in /Users/moyoajayi/miniforge3/envs/env-langchain/lib/python3.8/site-packages (from requests<3,>=2->langchain) (1.26.12)\n",
      "Requirement already satisfied: packaging>=17.0 in /Users/moyoajayi/miniforge3/envs/env-langchain/lib/python3.8/site-packages (from marshmallow<4.0.0,>=3.3.0->dataclasses-json<0.6.0,>=0.5.7->langchain) (21.3)\n",
      "Requirement already satisfied: mypy-extensions>=0.3.0 in /Users/moyoajayi/miniforge3/envs/env-langchain/lib/python3.8/site-packages (from typing-inspect>=0.4.0->dataclasses-json<0.6.0,>=0.5.7->langchain) (1.0.0)\n",
      "Requirement already satisfied: pyparsing!=3.0.5,>=2.0.2 in /Users/moyoajayi/miniforge3/envs/env-langchain/lib/python3.8/site-packages (from packaging>=17.0->marshmallow<4.0.0,>=3.3.0->dataclasses-json<0.6.0,>=0.5.7->langchain) (3.0.9)\n",
      "Requirement already satisfied: openai in /Users/moyoajayi/miniforge3/envs/env-langchain/lib/python3.8/site-packages (0.27.0)\n",
      "Requirement already satisfied: tqdm in /Users/moyoajayi/miniforge3/envs/env-langchain/lib/python3.8/site-packages (from openai) (4.64.1)\n",
      "Requirement already satisfied: requests>=2.20 in /Users/moyoajayi/miniforge3/envs/env-langchain/lib/python3.8/site-packages (from openai) (2.28.1)\n",
      "Requirement already satisfied: aiohttp in /Users/moyoajayi/miniforge3/envs/env-langchain/lib/python3.8/site-packages (from openai) (3.8.3)\n",
      "Requirement already satisfied: charset-normalizer<3,>=2 in /Users/moyoajayi/miniforge3/envs/env-langchain/lib/python3.8/site-packages (from requests>=2.20->openai) (2.1.1)\n",
      "Requirement already satisfied: urllib3<1.27,>=1.21.1 in /Users/moyoajayi/miniforge3/envs/env-langchain/lib/python3.8/site-packages (from requests>=2.20->openai) (1.26.12)\n",
      "Requirement already satisfied: certifi>=2017.4.17 in /Users/moyoajayi/miniforge3/envs/env-langchain/lib/python3.8/site-packages (from requests>=2.20->openai) (2022.12.7)\n",
      "Requirement already satisfied: idna<4,>=2.5 in /Users/moyoajayi/miniforge3/envs/env-langchain/lib/python3.8/site-packages (from requests>=2.20->openai) (3.4)\n",
      "Requirement already satisfied: frozenlist>=1.1.1 in /Users/moyoajayi/miniforge3/envs/env-langchain/lib/python3.8/site-packages (from aiohttp->openai) (1.3.3)\n",
      "Requirement already satisfied: yarl<2.0,>=1.0 in /Users/moyoajayi/miniforge3/envs/env-langchain/lib/python3.8/site-packages (from aiohttp->openai) (1.8.1)\n",
      "Requirement already satisfied: multidict<7.0,>=4.5 in /Users/moyoajayi/miniforge3/envs/env-langchain/lib/python3.8/site-packages (from aiohttp->openai) (6.0.2)\n",
      "Requirement already satisfied: async-timeout<5.0,>=4.0.0a3 in /Users/moyoajayi/miniforge3/envs/env-langchain/lib/python3.8/site-packages (from aiohttp->openai) (4.0.2)\n",
      "Requirement already satisfied: attrs>=17.3.0 in /Users/moyoajayi/miniforge3/envs/env-langchain/lib/python3.8/site-packages (from aiohttp->openai) (22.1.0)\n",
      "Requirement already satisfied: aiosignal>=1.1.2 in /Users/moyoajayi/miniforge3/envs/env-langchain/lib/python3.8/site-packages (from aiohttp->openai) (1.2.0)\n",
      "Requirement already satisfied: PyPDF2 in /Users/moyoajayi/miniforge3/envs/env-langchain/lib/python3.8/site-packages (2.10.5)\n",
      "Requirement already satisfied: typing-extensions>=3.10.0.0 in /Users/moyoajayi/miniforge3/envs/env-langchain/lib/python3.8/site-packages (from PyPDF2) (4.4.0)\n",
      "Requirement already satisfied: nltk in /Users/moyoajayi/.local/lib/python3.8/site-packages (3.7)\n",
      "Requirement already satisfied: joblib in /Users/moyoajayi/miniforge3/envs/env-langchain/lib/python3.8/site-packages (from nltk) (1.1.0)\n",
      "Requirement already satisfied: click in /Users/moyoajayi/.local/lib/python3.8/site-packages (from nltk) (8.0.4)\n",
      "Requirement already satisfied: regex>=2021.8.3 in /Users/moyoajayi/.local/lib/python3.8/site-packages (from nltk) (2022.3.15)\n",
      "Requirement already satisfied: tqdm in /Users/moyoajayi/miniforge3/envs/env-langchain/lib/python3.8/site-packages (from nltk) (4.64.1)\n"
     ]
    }
   ],
   "source": [
    "%%sh\n",
    "\n",
    "pip install langchain\n",
    "pip install openai\n",
    "pip install PyPDF2\n",
    "pip install nltk"
   ]
  },
  {
   "attachments": {},
   "cell_type": "markdown",
   "metadata": {},
   "source": [
    "[...]\n",
    "\n",
    "_returning to this portion later to fill in the front matter_"
   ]
  },
  {
   "cell_type": "code",
   "execution_count": 19,
   "metadata": {},
   "outputs": [],
   "source": [
    "import sys\n",
    "import os\n",
    "\n",
    "sys.path.append(\"../../../programs/.config/\")\n",
    "\n",
    "import openai_credentials\n",
    "\n",
    "os.environ[\"OPENAI_API_KEY\"] = openai_credentials.api_key"
   ]
  },
  {
   "cell_type": "code",
   "execution_count": 20,
   "metadata": {},
   "outputs": [],
   "source": [
    "from langchain.chains.qa_with_sources import load_qa_with_sources_chain\n",
    "\n",
    "from langchain.indexes import VectorstoreIndexCreator\n",
    "\n",
    "from langchain.vectorstores.elastic_vector_search import ElasticVectorSearch\n",
    "from langchain.vectorstores import Chroma\n",
    "\n",
    "from langchain.embeddings.openai import OpenAIEmbeddings\n",
    "from langchain.embeddings.cohere import CohereEmbeddings\n",
    "\n",
    "from langchain.text_splitter import CharacterTextSplitter\n",
    "\n",
    "from langchain.docstore.document import Document\n",
    "from langchain.document_loaders import TextLoader\n",
    "\n",
    "from langchain.prompts import PromptTemplate\n",
    "\n",
    "from langchain.llms import OpenAI\n",
    "\n",
    "from PyPDF2 import PdfReader"
   ]
  },
  {
   "cell_type": "code",
   "execution_count": 6,
   "metadata": {},
   "outputs": [],
   "source": [
    "reader = PdfReader(\n",
    "    \"../../../data/yellowstone/Lowenstern_Origins_Geothermal_Gases_at_Yellowstone.pdf\"\n",
    ")\n",
    "\n",
    "lowenstern_text = [reader.pages[i].extract_text() for i in range(len(reader.pages))]\n",
    "x = lowenstern_text[4:6]\n",
    "lowenstern_text_reduced = \" \".join(x)"
   ]
  },
  {
   "cell_type": "code",
   "execution_count": 5,
   "metadata": {},
   "outputs": [
    {
     "data": {
      "text/plain": [
       "'buried (trapped) thermal waters would then ﬂow along the base of lavas like the Elephant Back or Nez Perce ﬂows (Fig. 7ofHurwitz and Lowenstern, 2014) until they encounter the ground surface and emergeat low elevations (e.g., the Lower Geyser Basin). In contrast, steam pro-duced by deep boiling is able to rise along any existing fractures or per-meable volcanic vents to create acid sulfate terrains within and on top ofthe lava plateaus (e.g., Central Plateau, Smokejumper Hot Springs, Phan-tom Fumarole; all inFig. 2). Thus, the burial of previous thermal areasbeneath the Central Plateau Lavas enhanced the separation of steamand gas from residual thermal waters, aiding the formation of geochem-ically disparate acid sulfate and neutral chloride thermal areas.In the caldera, travertine-forming waters are found only at the coolperiphery of geothermal areas, such as near Firehole Lake, at HillsideSprings, and at Terrace Springs (Fournier, 1989). Outside the caldera, at the northern end of Yellowstone, the Mammoth Hot Springs thermalarea is characterized by abundant travertine precipitation forming frombicarbonate-rich waters that equilibrate at relatively low temperature(~73 °C in the subsurface;White et al., 1975). Within the caldera, high volumes of groundwater circulation can beinferred through the annual hydrographs, where the ratio of maximumannual discharge to baseﬂow is much lower than outside the calderawhere non-volcanic terrain dominates ( Gardner et al., 2010). Together with the dearth of cold springs in the caldera, this re ﬂects a high poros- ity, fractured reservoir where abundant meteoric groundwater absorbsheat from the underlying magma-hydrothermal system ( Gardner et al., 2010). Outside the caldera, near the Norris Geyser Basin, Gardner et al. (2011)used multiple isotopic and other tracers to demonstrate thatintermediate-temperature springs represented a mixture of youngcold recharge water with a premodern ( N60 years) hydrothermal endmember. The age of the premodern water has been variously esti-mated to be hundreds to thousands of years old based on δD,δ\\n18Oa n d\\n3Hd a t a(Kharaka et al., 2002; Rye and Truesdell, 2007 ).2.3. Short overview of previous work on Yellowstone gasesThe CO\\n2-rich nature of Yellowstone gases was recognized by Allen and Day (1935), who provided quality analyses for ~40 gas samples.They also noted that gases bubbling through neutral chloride waterswere more N\\n2-rich than gases from acid waters. Though many later re-searchers studied Yellowstone gases, very few provided full analyses ofthe entire composition.Sheppard et al. (1992)published plots based on gases sampled in pools between 1974 and 1986. They demonstratedthat gases obtained from bubbles that issue through large pools wereunlikely to reﬂect the chemistry of deep gas due to differential gas solu-bility in the near-surface water, convective circulation and mixing withair. They urged workers to avoid sampling from pools and instead tofocus on gas from fumaroles and frying pans (boiling ground with visi-ble bubbling water). They also demonstrated that most Yellowstonegases represent a mixture of gases derived from air-saturated meteoricwater with a He-rich endmember.Hearn et al. (1990)provided a full set of gas and isotope analyses for samples from Shoshone Geyser Basin.Werner and Brantley (2003)did the same for samples at Mud Volcanoand a few areas in eastern Yellowstone. A full compendium of ~130gas analyses was published byBergfeld et al. (2011)and updated to 169 analyses in 2014 (Fig. 2). They also reviewed most of the pre-existing literature on gas discharge at Yellowstone. Chiodini et al. (2012)independently analyzed some replicate samples as those pub-lished byBergfeld et al. (2011)and also undertook a detailed analysisof noble gas chemistry and geothermometry.The sources of individual gas components were ﬁrst explored through stable isotope geochemistry by Craig (1953)and thenCraig (1956).Craig (1953)foundδ\\n13C-CO 2values (−2.8 per mil) similar to those seen today, but interpreted their origin in light of the existingthought that igneous carbon had an isotopic composition b−20 per mil.Craig (1956)showed that water and steam from Yellowstonewere almost entirely of meteoric origin. Gas ratios determined byMazor and Wasserburg (1965)and laterGunter and Musgrave (1966) also pointed to a clear meteoric origin of the waters, as noble gas ratios(other than He) displayed atmospheric values.The presence of high3He/4He isotope ratios (up to 16 times the airratio, or R\\nA)w e r eﬁrst revealed byCraig et al. (1978),w h or e c o g n i z e d the mantle hotspot signature at Yellowstone. Kennedy et al. (1985) later provided values for He isotopes from the entire park, and showedthat gases generally represented a three-way mixture of magmatic,crustal and meteoric sources.Other workers have focused on the origin of organic gases such asmethane (CH\\n4) and higher hydrocarbons.DesMarais et al. (1981) demonstrated that the decomposition of organic-bearing sedimentswas responsible for generating methane in the petroleum-rich areasin the eastern part of Yellowstone.Clifton et al. (1990)studied“hydro- thermal”petroleum and inferred Eocene mudstone sources for RainbowSprings, whereas petroleum found at Calcite Spring was derived fromthe Permian Phosphoria Formation and recent sediments ﬁlling the val- ley of the Yellowstone River.Lorenson and Kvenvolden (1993)pub- lished hydrocarbon gas and isotopic analyses from these and a varietyof other springs and seeps throughout the park.The diffuseﬂux of CO\\n2at Yellowstone wasﬁrst explored byWerner et al. (2000)andWerner and Brantley (2003)who demonstrated that soil emission rates from Yellowstone (45 kt d\\n−1) were among the highest of any volcanic system on Earth. Subsequent studies byWerner et al. (2008);Lowenstern et al. (2012)andBergfeld et al. (2012)have explored the range of gas discharge at acid sulfate andother thermal areas throughout Yellowstone. Though they largely con-ﬁrm the high discharge rates from Yellowstone, estimates of the totalCO\\n2discharge are still highly approximate. Hurwitz and Lowenstern (2014)conservatively estimated diffuse CO\\n2emissions of 10 to 60 kt d\\n−1from the Yellowstone hydrothermal system.3. Key observations on gas andﬂuid geochemistryBelow, we discuss nine topics informed by our ongoing research.Findings from earlier work will be clearly cited, but some of the discus-sion is presented here for theﬁrst time, at least as applied toYellowstone.3.1.The geothermal system is“open”to gain and loss of vapor (gas and steam)A system can be deﬁned as“open”if mass and energy can freely move in or out of its deﬁned boundaries. At Yellowstone, variations ingasﬂow relative to thermal water argue for such open behavior. A casu-al observer at Yellowstone may discern that the amount of gas andwater emerging from thermal features can vary greatly. Allen and Day (1935)ﬁrst recognized that little waterﬂowed from the acid terrains, whereas considerable discharge occurred at neutral chloride features(Fig. 3). Moreover, they found greater gas discharge associated withthe acid waters, where they were able to collect one liter of gas inabout 6 minutes, whereas it could take over an hour to collect thesame volume of gas from neutral chloride waters ( Allen and Day, 1935:p .9 0 ) .This variation in gas discharge can be explained if some neutral chlo-ride waters have lost gas prior to discharge (see Section 2.2), whereas in acid sulfate terrain, perched acid waters are continually ﬂooded with gas from below (potentially originating from boiling of deep neutralchlorideﬂuids).The parkwide variations in gas discharge can be appreciated byquantifying the mass balance of liquid and gas discharge from variousthermal areas. For example, about 78 L s\\n−1of gas-poor neutral chloride water emerges at the Heart Lake Geyser Basin. Through study of the dif-fuse CO\\n2ﬂux and gas chemistry,Lowenstern et al. (2012)estimated that the thermalﬂuid entering the Heart Lake Geyser Basin contained only21 mmol CO\\n2, corresponding to 0.1 wt.% dissolved CO 2. In contrast,91 J.B. Lowenstern et al. / Journal of Volcanology and Geothermal Research 302 (2015) 87 –101 rising gas vigorously churns the acid pool of Churning Cauldron at theMud Volcano thermal area (Fig. 3).Werner et al. (2000)estimated a CO\\n2emission rate of 0.24 kg s−1from this large pool. The water dis-charge through the pool outlet isb1Ls\\n−1, implying bulk emissions of N20 wt.% CO\\n2. A similar calculation can be undertaken for the entireMud Volcano thermal area, which releases 4.2 kg s\\n−1CO2(Werner et al., 2000), compared with an H\\n2O discharge of only 1–2Ls−1\\n(Allen and Day, 1935). The totalﬂuid emitted from the Mud Volcanothermal area is then calculated to be N50% CO\\n2, far different than the 0.1% at the Heart Lake Geyser Basin. It is clear that the ratio of CO\\n2- rich gas to neutral chloride geothermal water can vary, and that gas isnot produced everywhere by near-surface boiling of a common geo-thermalﬂuid withﬁxed dissolved CO\\n2.Lowenstern and Hurwitz (2008)performed similar calculations forthe overall Yellowstone geothermal system. By comparing total thermalwater output estimated from the Cl-ﬂux (e.g.,Fournier et al., 1976; Friedman and Norton, 2007) with total CO\\n2output estimated from dif- fuse CO\\n2ﬂux measurements (Werner et al., 2000; Werner and Brantley,2003), they estimated bulk geothermal emissions for Yellowstone con-tain 5 mol% CO\\n2(~11 wt.%). Later in this manuscript, we will review ev-idence for the sources of the (shallow-derived) H\\n2O and (deep-sourced) CO\\n2, but we stress here solely that the steady state volatile emissionsconsist of 5 mol% CO\\n2. This value falls between the 0.1 andN50 wt.% es- timates for the Heart Lake and Mud Volcano estimates above.Lowenstern and Hurwitz (2008)further demonstrated that any poten-tial thermalﬂuid with 5 mol% CO\\n2would separate into a CO 2-H2Ov a p o r and an aqueous liquid throughout most of the upper 3 –4 km beneath Yellowstone. That is, conditions in the upper few km beneath Yellow-stone favor saturation with a CO\\n2-steam vapor phase.The above discussion demonstrates the following point: gas and liq-uid water are frequently decoupled at Yellowstone thermal areas. Sam-pledﬂuids may have components added or removed during subsurfaceﬂow. The open-system behavior may consist of geothermal gas risinginto perched meteoric water at the surface, lateral ﬂow that continuous- ly depletes a geothermal liquid of dissolved gas at 200 m depth, or mag-matic gas rising into a meteoric-sourced geothermal reservoir at 2 km.3.2. Steam/gas ratios at fumaroles reﬂect addition of steam from boiling groundwaterGeothermal researchers often view fumarole emissions as steamand gas produced solely by boiling of geothermal liquid, whereasvolcano gas chemists may view them solely as products of magmadegassing. At Yellowstone, the reality is somewhere in between.The most recent compilation of YPVF gases has 167 separate analyses(Bergfeld et al., 2011: updated 2014), the distribution of which isshown on the map inFig. 2. A small subset of analyses is compiledinTable 1. After H2O (steam), the primary component of Yellowstonefumaroles is CO\\n2, followed by variable amounts of H 2S, N 2,H2,C H 4, C\\n2H6,A r ,H e ,O 2,N H 3and other trace gases (Fig. 4). The ratio of gas to steam at Yellowstone differs mar kedly in different locales. The %G (mol% gas in the fumarolic vapor relative to steam + gas) variesfrom a high of ~15% at Mud Volcano, down to values as low as0.05% in some geyser basins. The %G does not correlate with fuma-role temperature, but does vary in concert with gas chemistry.Fig. 5is a plot of the log %G versus log N\\n2/CO 2that shows the two var- iables are anti-correlated. Given that CO\\n2dominates the gas compo- sition everywhere in Yellowstone, the plot demonstrates thatsamples high in steam (low in gas) have elevated N\\n2.S a m p l e sw i t h the highest %G and lowest N\\n2/CO 2are found at Mud Volcano, coinci-dent with helium isotope ratios that are the most characteristic of adeep mantle source for all locations at Yellowstone ( Craig et al., 1978; Kennedy et al., 1985; Bergfeld et al., 2011 ). The Ar/He ratios, as indicated by the size of the symbol on Fig. 5, show a similar trend. He and Ar are not highly fractionated by boiling,especially compared with N\\n2and CO 2, yet the Ar/He ratio increases by orders of magnitude from low values in gas-rich samples of Mud Volca-no to high values at steam-rich areas like the Upper Geyser Basin. The Arcontent, as with N\\n2, can be derived from the atmosphere or from mete-oric water that is saturated with air, whereas the He concentration in airis very low and must come from magmatic or crustal sources. Therefore,a simple explanation for the variations shown in Fig. 5is that samples with low %G have been diluted by addition of boiled meteoric water,\\nab\\nFig. 3.Photo showing the wide range of gas discharge from thermal pools at Yellowstone. (a) Columbia Spring at Heart Lake Geyser Basin has negligible gas ﬂux but and moderate dis- charge of near-boiling-temperature H\\n2O. (b) Churning Cauldron at Mud Volcano is a pool of sub-boiling acid water with little out ﬂow but a gas discharge of ~0.24 kg/s CO 2.C h u r n i n gC a u l - dron photo from Wikipedia.92 J.B. Lowenstern et al. / Journal of Volcanology and Geothermal Research 302 (2015) 87 –101'"
      ]
     },
     "execution_count": 5,
     "metadata": {},
     "output_type": "execute_result"
    }
   ],
   "source": [
    "lowenstern_text_reduced"
   ]
  },
  {
   "cell_type": "code",
   "execution_count": 21,
   "metadata": {},
   "outputs": [],
   "source": [
    "# with open(\"../../../data/political/sotu_20230207.txt\") as f:\n",
    "#     sotu_text = f.read()\n",
    "\n",
    "sotu_loader = TextLoader(\"../../../data/political/sotu_20230207.txt\")\n",
    "lowenstern_loader = TextLoader(\"../../../data/yellowstone/Lowenstern_Orrigins_Geothermal_Gases_at_Yellowstone.txt\")"
   ]
  },
  {
   "cell_type": "code",
   "execution_count": 22,
   "metadata": {},
   "outputs": [
    {
     "name": "stdout",
     "output_type": "stream",
     "text": [
      "Running Chroma using direct local API.\n",
      "Using DuckDB in-memory for database. Data will be transient.\n",
      "Exiting: Cleaning up .chroma directory\n"
     ]
    }
   ],
   "source": [
    "index = VectorstoreIndexCreator().from_loaders([lowenstern_loader])"
   ]
  },
  {
   "cell_type": "code",
   "execution_count": 25,
   "metadata": {},
   "outputs": [
    {
     "data": {
      "text/plain": [
       "{'question': 'How old is the Yellowstone caldera?',\n",
       " 'answer': ' The Yellowstone caldera is approximately 640,000 years old.\\n',\n",
       " 'sources': '../../../data/yellowstone/Lowenstern_Orrigins_Geothermal_Gases_at_Yellowstone.txt'}"
      ]
     },
     "execution_count": 25,
     "metadata": {},
     "output_type": "execute_result"
    }
   ],
   "source": [
    "query = \"How old is the Yellowstone caldera?\"\n",
    "index.query_with_sources(query)"
   ]
  },
  {
   "cell_type": "code",
   "execution_count": 24,
   "metadata": {},
   "outputs": [
    {
     "data": {
      "text/plain": [
       "{'question': 'What is the dominant gas emitted from Yellowstone?',\n",
       " 'answer': ' The dominant gas emitted from Yellowstone is CO2.\\n',\n",
       " 'sources': '../../../data/yellowstone/Lowenstern_Orrigins_Geothermal_Gases_at_Yellowstone.txt'}"
      ]
     },
     "execution_count": 24,
     "metadata": {},
     "output_type": "execute_result"
    }
   ],
   "source": [
    "query = \"What is the dominant gas emitted from Yellowstone?\"\n",
    "index.query_with_sources(query)"
   ]
  },
  {
   "cell_type": "code",
   "execution_count": 57,
   "metadata": {},
   "outputs": [
    {
     "name": "stdout",
     "output_type": "stream",
     "text": [
      "1\n",
      "3\n",
      "5\n",
      "7\n",
      "9\n",
      "11\n"
     ]
    }
   ],
   "source": [
    "extra = []\n",
    "for i in range(len(texts)):\n",
    "    if len(texts[i]) > 1024:\n",
    "        extra=+ i\n",
    "        print(i)"
   ]
  },
  {
   "cell_type": "code",
   "execution_count": 82,
   "metadata": {},
   "outputs": [
    {
     "data": {
      "text/plain": [
       "str"
      ]
     },
     "execution_count": 82,
     "metadata": {},
     "output_type": "execute_result"
    }
   ],
   "source": [
    "type(sotu_text)"
   ]
  },
  {
   "cell_type": "code",
   "execution_count": 79,
   "metadata": {},
   "outputs": [],
   "source": [
    "text_splitter = CharacterTextSplitter(chunk_size=750, chunk_overlap=0)\n",
    "texts = text_splitter.split_text(sotu_text)"
   ]
  },
  {
   "cell_type": "code",
   "execution_count": null,
   "metadata": {},
   "outputs": [],
   "source": [
    "embeddings = OpenAIEmbeddings()"
   ]
  },
  {
   "cell_type": "code",
   "execution_count": 80,
   "metadata": {},
   "outputs": [
    {
     "name": "stdout",
     "output_type": "stream",
     "text": [
      "Running Chroma using direct local API.\n",
      "Using DuckDB in-memory for database. Data will be transient.\n",
      "Exiting: Cleaning up .chroma directory\n"
     ]
    }
   ],
   "source": [
    "docsearch = Chroma.from_texts(texts, embeddings, metadatas=[{\"source\": str(i)} for i in range(len(texts))])\n",
    "query = \"What kind of problem is inflation\"\n",
    "docs = docsearch.similarity_search(query)"
   ]
  },
  {
   "cell_type": "code",
   "execution_count": 87,
   "metadata": {},
   "outputs": [
    {
     "ename": "InvalidRequestError",
     "evalue": "This model's maximum context length is 4097 tokens, however you requested 7843 tokens (7587 in your prompt; 256 for the completion). Please reduce your prompt; or completion length.",
     "output_type": "error",
     "traceback": [
      "\u001b[0;31m---------------------------------------------------------------------------\u001b[0m",
      "\u001b[0;31mInvalidRequestError\u001b[0m                       Traceback (most recent call last)",
      "Cell \u001b[0;32mIn [87], line 3\u001b[0m\n\u001b[1;32m      1\u001b[0m chain \u001b[39m=\u001b[39m load_qa_with_sources_chain(OpenAI(temperature\u001b[39m=\u001b[39m\u001b[39m0\u001b[39m), chain_type\u001b[39m=\u001b[39m\u001b[39m\"\u001b[39m\u001b[39mstuff\u001b[39m\u001b[39m\"\u001b[39m)\n\u001b[0;32m----> 3\u001b[0m chain({\u001b[39m\"\u001b[39;49m\u001b[39minput_documents\u001b[39;49m\u001b[39m\"\u001b[39;49m: docs, \u001b[39m\"\u001b[39;49m\u001b[39mquestion\u001b[39;49m\u001b[39m\"\u001b[39;49m: query}, return_only_outputs\u001b[39m=\u001b[39;49m\u001b[39mTrue\u001b[39;49;00m)\n",
      "File \u001b[0;32m~/miniforge3/envs/env-langchain/lib/python3.8/site-packages/langchain/chains/base.py:168\u001b[0m, in \u001b[0;36mChain.__call__\u001b[0;34m(self, inputs, return_only_outputs)\u001b[0m\n\u001b[1;32m    166\u001b[0m \u001b[39mexcept\u001b[39;00m (\u001b[39mKeyboardInterrupt\u001b[39;00m, \u001b[39mException\u001b[39;00m) \u001b[39mas\u001b[39;00m e:\n\u001b[1;32m    167\u001b[0m     \u001b[39mself\u001b[39m\u001b[39m.\u001b[39mcallback_manager\u001b[39m.\u001b[39mon_chain_error(e, verbose\u001b[39m=\u001b[39m\u001b[39mself\u001b[39m\u001b[39m.\u001b[39mverbose)\n\u001b[0;32m--> 168\u001b[0m     \u001b[39mraise\u001b[39;00m e\n\u001b[1;32m    169\u001b[0m \u001b[39mself\u001b[39m\u001b[39m.\u001b[39mcallback_manager\u001b[39m.\u001b[39mon_chain_end(outputs, verbose\u001b[39m=\u001b[39m\u001b[39mself\u001b[39m\u001b[39m.\u001b[39mverbose)\n\u001b[1;32m    170\u001b[0m \u001b[39mreturn\u001b[39;00m \u001b[39mself\u001b[39m\u001b[39m.\u001b[39mprep_outputs(inputs, outputs, return_only_outputs)\n",
      "File \u001b[0;32m~/miniforge3/envs/env-langchain/lib/python3.8/site-packages/langchain/chains/base.py:165\u001b[0m, in \u001b[0;36mChain.__call__\u001b[0;34m(self, inputs, return_only_outputs)\u001b[0m\n\u001b[1;32m    159\u001b[0m \u001b[39mself\u001b[39m\u001b[39m.\u001b[39mcallback_manager\u001b[39m.\u001b[39mon_chain_start(\n\u001b[1;32m    160\u001b[0m     {\u001b[39m\"\u001b[39m\u001b[39mname\u001b[39m\u001b[39m\"\u001b[39m: \u001b[39mself\u001b[39m\u001b[39m.\u001b[39m\u001b[39m__class__\u001b[39m\u001b[39m.\u001b[39m\u001b[39m__name__\u001b[39m},\n\u001b[1;32m    161\u001b[0m     inputs,\n\u001b[1;32m    162\u001b[0m     verbose\u001b[39m=\u001b[39m\u001b[39mself\u001b[39m\u001b[39m.\u001b[39mverbose,\n\u001b[1;32m    163\u001b[0m )\n\u001b[1;32m    164\u001b[0m \u001b[39mtry\u001b[39;00m:\n\u001b[0;32m--> 165\u001b[0m     outputs \u001b[39m=\u001b[39m \u001b[39mself\u001b[39;49m\u001b[39m.\u001b[39;49m_call(inputs)\n\u001b[1;32m    166\u001b[0m \u001b[39mexcept\u001b[39;00m (\u001b[39mKeyboardInterrupt\u001b[39;00m, \u001b[39mException\u001b[39;00m) \u001b[39mas\u001b[39;00m e:\n\u001b[1;32m    167\u001b[0m     \u001b[39mself\u001b[39m\u001b[39m.\u001b[39mcallback_manager\u001b[39m.\u001b[39mon_chain_error(e, verbose\u001b[39m=\u001b[39m\u001b[39mself\u001b[39m\u001b[39m.\u001b[39mverbose)\n",
      "File \u001b[0;32m~/miniforge3/envs/env-langchain/lib/python3.8/site-packages/langchain/chains/combine_documents/base.py:56\u001b[0m, in \u001b[0;36mBaseCombineDocumentsChain._call\u001b[0;34m(self, inputs)\u001b[0m\n\u001b[1;32m     54\u001b[0m \u001b[39m# Other keys are assumed to be needed for LLM prediction\u001b[39;00m\n\u001b[1;32m     55\u001b[0m other_keys \u001b[39m=\u001b[39m {k: v \u001b[39mfor\u001b[39;00m k, v \u001b[39min\u001b[39;00m inputs\u001b[39m.\u001b[39mitems() \u001b[39mif\u001b[39;00m k \u001b[39m!=\u001b[39m \u001b[39mself\u001b[39m\u001b[39m.\u001b[39minput_key}\n\u001b[0;32m---> 56\u001b[0m output, extra_return_dict \u001b[39m=\u001b[39m \u001b[39mself\u001b[39;49m\u001b[39m.\u001b[39;49mcombine_docs(docs, \u001b[39m*\u001b[39;49m\u001b[39m*\u001b[39;49mother_keys)\n\u001b[1;32m     57\u001b[0m extra_return_dict[\u001b[39mself\u001b[39m\u001b[39m.\u001b[39moutput_key] \u001b[39m=\u001b[39m output\n\u001b[1;32m     58\u001b[0m \u001b[39mreturn\u001b[39;00m extra_return_dict\n",
      "File \u001b[0;32m~/miniforge3/envs/env-langchain/lib/python3.8/site-packages/langchain/chains/combine_documents/stuff.py:89\u001b[0m, in \u001b[0;36mStuffDocumentsChain.combine_docs\u001b[0;34m(self, docs, **kwargs)\u001b[0m\n\u001b[1;32m     87\u001b[0m inputs \u001b[39m=\u001b[39m \u001b[39mself\u001b[39m\u001b[39m.\u001b[39m_get_inputs(docs, \u001b[39m*\u001b[39m\u001b[39m*\u001b[39mkwargs)\n\u001b[1;32m     88\u001b[0m \u001b[39m# Call predict on the LLM.\u001b[39;00m\n\u001b[0;32m---> 89\u001b[0m \u001b[39mreturn\u001b[39;00m \u001b[39mself\u001b[39;49m\u001b[39m.\u001b[39;49mllm_chain\u001b[39m.\u001b[39;49mpredict(\u001b[39m*\u001b[39;49m\u001b[39m*\u001b[39;49minputs), {}\n",
      "File \u001b[0;32m~/miniforge3/envs/env-langchain/lib/python3.8/site-packages/langchain/chains/llm.py:151\u001b[0m, in \u001b[0;36mLLMChain.predict\u001b[0;34m(self, **kwargs)\u001b[0m\n\u001b[1;32m    137\u001b[0m \u001b[39mdef\u001b[39;00m \u001b[39mpredict\u001b[39m(\u001b[39mself\u001b[39m, \u001b[39m*\u001b[39m\u001b[39m*\u001b[39mkwargs: Any) \u001b[39m-\u001b[39m\u001b[39m>\u001b[39m \u001b[39mstr\u001b[39m:\n\u001b[1;32m    138\u001b[0m     \u001b[39m\"\"\"Format prompt with kwargs and pass to LLM.\u001b[39;00m\n\u001b[1;32m    139\u001b[0m \n\u001b[1;32m    140\u001b[0m \u001b[39m    Args:\u001b[39;00m\n\u001b[0;32m   (...)\u001b[0m\n\u001b[1;32m    149\u001b[0m \u001b[39m            completion = llm.predict(adjective=\"funny\")\u001b[39;00m\n\u001b[1;32m    150\u001b[0m \u001b[39m    \"\"\"\u001b[39;00m\n\u001b[0;32m--> 151\u001b[0m     \u001b[39mreturn\u001b[39;00m \u001b[39mself\u001b[39;49m(kwargs)[\u001b[39mself\u001b[39m\u001b[39m.\u001b[39moutput_key]\n",
      "File \u001b[0;32m~/miniforge3/envs/env-langchain/lib/python3.8/site-packages/langchain/chains/base.py:168\u001b[0m, in \u001b[0;36mChain.__call__\u001b[0;34m(self, inputs, return_only_outputs)\u001b[0m\n\u001b[1;32m    166\u001b[0m \u001b[39mexcept\u001b[39;00m (\u001b[39mKeyboardInterrupt\u001b[39;00m, \u001b[39mException\u001b[39;00m) \u001b[39mas\u001b[39;00m e:\n\u001b[1;32m    167\u001b[0m     \u001b[39mself\u001b[39m\u001b[39m.\u001b[39mcallback_manager\u001b[39m.\u001b[39mon_chain_error(e, verbose\u001b[39m=\u001b[39m\u001b[39mself\u001b[39m\u001b[39m.\u001b[39mverbose)\n\u001b[0;32m--> 168\u001b[0m     \u001b[39mraise\u001b[39;00m e\n\u001b[1;32m    169\u001b[0m \u001b[39mself\u001b[39m\u001b[39m.\u001b[39mcallback_manager\u001b[39m.\u001b[39mon_chain_end(outputs, verbose\u001b[39m=\u001b[39m\u001b[39mself\u001b[39m\u001b[39m.\u001b[39mverbose)\n\u001b[1;32m    170\u001b[0m \u001b[39mreturn\u001b[39;00m \u001b[39mself\u001b[39m\u001b[39m.\u001b[39mprep_outputs(inputs, outputs, return_only_outputs)\n",
      "File \u001b[0;32m~/miniforge3/envs/env-langchain/lib/python3.8/site-packages/langchain/chains/base.py:165\u001b[0m, in \u001b[0;36mChain.__call__\u001b[0;34m(self, inputs, return_only_outputs)\u001b[0m\n\u001b[1;32m    159\u001b[0m \u001b[39mself\u001b[39m\u001b[39m.\u001b[39mcallback_manager\u001b[39m.\u001b[39mon_chain_start(\n\u001b[1;32m    160\u001b[0m     {\u001b[39m\"\u001b[39m\u001b[39mname\u001b[39m\u001b[39m\"\u001b[39m: \u001b[39mself\u001b[39m\u001b[39m.\u001b[39m\u001b[39m__class__\u001b[39m\u001b[39m.\u001b[39m\u001b[39m__name__\u001b[39m},\n\u001b[1;32m    161\u001b[0m     inputs,\n\u001b[1;32m    162\u001b[0m     verbose\u001b[39m=\u001b[39m\u001b[39mself\u001b[39m\u001b[39m.\u001b[39mverbose,\n\u001b[1;32m    163\u001b[0m )\n\u001b[1;32m    164\u001b[0m \u001b[39mtry\u001b[39;00m:\n\u001b[0;32m--> 165\u001b[0m     outputs \u001b[39m=\u001b[39m \u001b[39mself\u001b[39;49m\u001b[39m.\u001b[39;49m_call(inputs)\n\u001b[1;32m    166\u001b[0m \u001b[39mexcept\u001b[39;00m (\u001b[39mKeyboardInterrupt\u001b[39;00m, \u001b[39mException\u001b[39;00m) \u001b[39mas\u001b[39;00m e:\n\u001b[1;32m    167\u001b[0m     \u001b[39mself\u001b[39m\u001b[39m.\u001b[39mcallback_manager\u001b[39m.\u001b[39mon_chain_error(e, verbose\u001b[39m=\u001b[39m\u001b[39mself\u001b[39m\u001b[39m.\u001b[39mverbose)\n",
      "File \u001b[0;32m~/miniforge3/envs/env-langchain/lib/python3.8/site-packages/langchain/chains/llm.py:57\u001b[0m, in \u001b[0;36mLLMChain._call\u001b[0;34m(self, inputs)\u001b[0m\n\u001b[1;32m     56\u001b[0m \u001b[39mdef\u001b[39;00m \u001b[39m_call\u001b[39m(\u001b[39mself\u001b[39m, inputs: Dict[\u001b[39mstr\u001b[39m, Any]) \u001b[39m-\u001b[39m\u001b[39m>\u001b[39m Dict[\u001b[39mstr\u001b[39m, \u001b[39mstr\u001b[39m]:\n\u001b[0;32m---> 57\u001b[0m     \u001b[39mreturn\u001b[39;00m \u001b[39mself\u001b[39;49m\u001b[39m.\u001b[39;49mapply([inputs])[\u001b[39m0\u001b[39m]\n",
      "File \u001b[0;32m~/miniforge3/envs/env-langchain/lib/python3.8/site-packages/langchain/chains/llm.py:118\u001b[0m, in \u001b[0;36mLLMChain.apply\u001b[0;34m(self, input_list)\u001b[0m\n\u001b[1;32m    116\u001b[0m \u001b[39mdef\u001b[39;00m \u001b[39mapply\u001b[39m(\u001b[39mself\u001b[39m, input_list: List[Dict[\u001b[39mstr\u001b[39m, Any]]) \u001b[39m-\u001b[39m\u001b[39m>\u001b[39m List[Dict[\u001b[39mstr\u001b[39m, \u001b[39mstr\u001b[39m]]:\n\u001b[1;32m    117\u001b[0m     \u001b[39m\"\"\"Utilize the LLM generate method for speed gains.\"\"\"\u001b[39;00m\n\u001b[0;32m--> 118\u001b[0m     response \u001b[39m=\u001b[39m \u001b[39mself\u001b[39;49m\u001b[39m.\u001b[39;49mgenerate(input_list)\n\u001b[1;32m    119\u001b[0m     \u001b[39mreturn\u001b[39;00m \u001b[39mself\u001b[39m\u001b[39m.\u001b[39mcreate_outputs(response)\n",
      "File \u001b[0;32m~/miniforge3/envs/env-langchain/lib/python3.8/site-packages/langchain/chains/llm.py:62\u001b[0m, in \u001b[0;36mLLMChain.generate\u001b[0;34m(self, input_list)\u001b[0m\n\u001b[1;32m     60\u001b[0m \u001b[39m\"\"\"Generate LLM result from inputs.\"\"\"\u001b[39;00m\n\u001b[1;32m     61\u001b[0m prompts, stop \u001b[39m=\u001b[39m \u001b[39mself\u001b[39m\u001b[39m.\u001b[39mprep_prompts(input_list)\n\u001b[0;32m---> 62\u001b[0m \u001b[39mreturn\u001b[39;00m \u001b[39mself\u001b[39;49m\u001b[39m.\u001b[39;49mllm\u001b[39m.\u001b[39;49mgenerate_prompt(prompts, stop)\n",
      "File \u001b[0;32m~/miniforge3/envs/env-langchain/lib/python3.8/site-packages/langchain/llms/base.py:107\u001b[0m, in \u001b[0;36mBaseLLM.generate_prompt\u001b[0;34m(self, prompts, stop)\u001b[0m\n\u001b[1;32m    103\u001b[0m \u001b[39mdef\u001b[39;00m \u001b[39mgenerate_prompt\u001b[39m(\n\u001b[1;32m    104\u001b[0m     \u001b[39mself\u001b[39m, prompts: List[PromptValue], stop: Optional[List[\u001b[39mstr\u001b[39m]] \u001b[39m=\u001b[39m \u001b[39mNone\u001b[39;00m\n\u001b[1;32m    105\u001b[0m ) \u001b[39m-\u001b[39m\u001b[39m>\u001b[39m LLMResult:\n\u001b[1;32m    106\u001b[0m     prompt_strings \u001b[39m=\u001b[39m [p\u001b[39m.\u001b[39mto_string() \u001b[39mfor\u001b[39;00m p \u001b[39min\u001b[39;00m prompts]\n\u001b[0;32m--> 107\u001b[0m     \u001b[39mreturn\u001b[39;00m \u001b[39mself\u001b[39;49m\u001b[39m.\u001b[39;49mgenerate(prompt_strings, stop\u001b[39m=\u001b[39;49mstop)\n",
      "File \u001b[0;32m~/miniforge3/envs/env-langchain/lib/python3.8/site-packages/langchain/llms/base.py:140\u001b[0m, in \u001b[0;36mBaseLLM.generate\u001b[0;34m(self, prompts, stop)\u001b[0m\n\u001b[1;32m    138\u001b[0m \u001b[39mexcept\u001b[39;00m (\u001b[39mKeyboardInterrupt\u001b[39;00m, \u001b[39mException\u001b[39;00m) \u001b[39mas\u001b[39;00m e:\n\u001b[1;32m    139\u001b[0m     \u001b[39mself\u001b[39m\u001b[39m.\u001b[39mcallback_manager\u001b[39m.\u001b[39mon_llm_error(e, verbose\u001b[39m=\u001b[39m\u001b[39mself\u001b[39m\u001b[39m.\u001b[39mverbose)\n\u001b[0;32m--> 140\u001b[0m     \u001b[39mraise\u001b[39;00m e\n\u001b[1;32m    141\u001b[0m \u001b[39mself\u001b[39m\u001b[39m.\u001b[39mcallback_manager\u001b[39m.\u001b[39mon_llm_end(output, verbose\u001b[39m=\u001b[39m\u001b[39mself\u001b[39m\u001b[39m.\u001b[39mverbose)\n\u001b[1;32m    142\u001b[0m \u001b[39mreturn\u001b[39;00m output\n",
      "File \u001b[0;32m~/miniforge3/envs/env-langchain/lib/python3.8/site-packages/langchain/llms/base.py:137\u001b[0m, in \u001b[0;36mBaseLLM.generate\u001b[0;34m(self, prompts, stop)\u001b[0m\n\u001b[1;32m    133\u001b[0m \u001b[39mself\u001b[39m\u001b[39m.\u001b[39mcallback_manager\u001b[39m.\u001b[39mon_llm_start(\n\u001b[1;32m    134\u001b[0m     {\u001b[39m\"\u001b[39m\u001b[39mname\u001b[39m\u001b[39m\"\u001b[39m: \u001b[39mself\u001b[39m\u001b[39m.\u001b[39m\u001b[39m__class__\u001b[39m\u001b[39m.\u001b[39m\u001b[39m__name__\u001b[39m}, prompts, verbose\u001b[39m=\u001b[39m\u001b[39mself\u001b[39m\u001b[39m.\u001b[39mverbose\n\u001b[1;32m    135\u001b[0m )\n\u001b[1;32m    136\u001b[0m \u001b[39mtry\u001b[39;00m:\n\u001b[0;32m--> 137\u001b[0m     output \u001b[39m=\u001b[39m \u001b[39mself\u001b[39;49m\u001b[39m.\u001b[39;49m_generate(prompts, stop\u001b[39m=\u001b[39;49mstop)\n\u001b[1;32m    138\u001b[0m \u001b[39mexcept\u001b[39;00m (\u001b[39mKeyboardInterrupt\u001b[39;00m, \u001b[39mException\u001b[39;00m) \u001b[39mas\u001b[39;00m e:\n\u001b[1;32m    139\u001b[0m     \u001b[39mself\u001b[39m\u001b[39m.\u001b[39mcallback_manager\u001b[39m.\u001b[39mon_llm_error(e, verbose\u001b[39m=\u001b[39m\u001b[39mself\u001b[39m\u001b[39m.\u001b[39mverbose)\n",
      "File \u001b[0;32m~/miniforge3/envs/env-langchain/lib/python3.8/site-packages/langchain/llms/openai.py:274\u001b[0m, in \u001b[0;36mBaseOpenAI._generate\u001b[0;34m(self, prompts, stop)\u001b[0m\n\u001b[1;32m    272\u001b[0m     choices\u001b[39m.\u001b[39mextend(response[\u001b[39m\"\u001b[39m\u001b[39mchoices\u001b[39m\u001b[39m\"\u001b[39m])\n\u001b[1;32m    273\u001b[0m \u001b[39melse\u001b[39;00m:\n\u001b[0;32m--> 274\u001b[0m     response \u001b[39m=\u001b[39m completion_with_retry(\u001b[39mself\u001b[39;49m, prompt\u001b[39m=\u001b[39;49m_prompts, \u001b[39m*\u001b[39;49m\u001b[39m*\u001b[39;49mparams)\n\u001b[1;32m    275\u001b[0m     choices\u001b[39m.\u001b[39mextend(response[\u001b[39m\"\u001b[39m\u001b[39mchoices\u001b[39m\u001b[39m\"\u001b[39m])\n\u001b[1;32m    276\u001b[0m \u001b[39mif\u001b[39;00m \u001b[39mnot\u001b[39;00m \u001b[39mself\u001b[39m\u001b[39m.\u001b[39mstreaming:\n\u001b[1;32m    277\u001b[0m     \u001b[39m# Can't update token usage if streaming\u001b[39;00m\n",
      "File \u001b[0;32m~/miniforge3/envs/env-langchain/lib/python3.8/site-packages/langchain/llms/openai.py:98\u001b[0m, in \u001b[0;36mcompletion_with_retry\u001b[0;34m(llm, **kwargs)\u001b[0m\n\u001b[1;32m     94\u001b[0m \u001b[39m@retry_decorator\u001b[39m\n\u001b[1;32m     95\u001b[0m \u001b[39mdef\u001b[39;00m \u001b[39m_completion_with_retry\u001b[39m(\u001b[39m*\u001b[39m\u001b[39m*\u001b[39mkwargs: Any) \u001b[39m-\u001b[39m\u001b[39m>\u001b[39m Any:\n\u001b[1;32m     96\u001b[0m     \u001b[39mreturn\u001b[39;00m llm\u001b[39m.\u001b[39mclient\u001b[39m.\u001b[39mcreate(\u001b[39m*\u001b[39m\u001b[39m*\u001b[39mkwargs)\n\u001b[0;32m---> 98\u001b[0m \u001b[39mreturn\u001b[39;00m _completion_with_retry(\u001b[39m*\u001b[39;49m\u001b[39m*\u001b[39;49mkwargs)\n",
      "File \u001b[0;32m~/miniforge3/envs/env-langchain/lib/python3.8/site-packages/tenacity/__init__.py:289\u001b[0m, in \u001b[0;36mBaseRetrying.wraps.<locals>.wrapped_f\u001b[0;34m(*args, **kw)\u001b[0m\n\u001b[1;32m    287\u001b[0m \u001b[39m@functools\u001b[39m\u001b[39m.\u001b[39mwraps(f)\n\u001b[1;32m    288\u001b[0m \u001b[39mdef\u001b[39;00m \u001b[39mwrapped_f\u001b[39m(\u001b[39m*\u001b[39margs: t\u001b[39m.\u001b[39mAny, \u001b[39m*\u001b[39m\u001b[39m*\u001b[39mkw: t\u001b[39m.\u001b[39mAny) \u001b[39m-\u001b[39m\u001b[39m>\u001b[39m t\u001b[39m.\u001b[39mAny:\n\u001b[0;32m--> 289\u001b[0m     \u001b[39mreturn\u001b[39;00m \u001b[39mself\u001b[39;49m(f, \u001b[39m*\u001b[39;49margs, \u001b[39m*\u001b[39;49m\u001b[39m*\u001b[39;49mkw)\n",
      "File \u001b[0;32m~/miniforge3/envs/env-langchain/lib/python3.8/site-packages/tenacity/__init__.py:379\u001b[0m, in \u001b[0;36mRetrying.__call__\u001b[0;34m(self, fn, *args, **kwargs)\u001b[0m\n\u001b[1;32m    377\u001b[0m retry_state \u001b[39m=\u001b[39m RetryCallState(retry_object\u001b[39m=\u001b[39m\u001b[39mself\u001b[39m, fn\u001b[39m=\u001b[39mfn, args\u001b[39m=\u001b[39margs, kwargs\u001b[39m=\u001b[39mkwargs)\n\u001b[1;32m    378\u001b[0m \u001b[39mwhile\u001b[39;00m \u001b[39mTrue\u001b[39;00m:\n\u001b[0;32m--> 379\u001b[0m     do \u001b[39m=\u001b[39m \u001b[39mself\u001b[39;49m\u001b[39m.\u001b[39;49miter(retry_state\u001b[39m=\u001b[39;49mretry_state)\n\u001b[1;32m    380\u001b[0m     \u001b[39mif\u001b[39;00m \u001b[39misinstance\u001b[39m(do, DoAttempt):\n\u001b[1;32m    381\u001b[0m         \u001b[39mtry\u001b[39;00m:\n",
      "File \u001b[0;32m~/miniforge3/envs/env-langchain/lib/python3.8/site-packages/tenacity/__init__.py:314\u001b[0m, in \u001b[0;36mBaseRetrying.iter\u001b[0;34m(self, retry_state)\u001b[0m\n\u001b[1;32m    312\u001b[0m is_explicit_retry \u001b[39m=\u001b[39m fut\u001b[39m.\u001b[39mfailed \u001b[39mand\u001b[39;00m \u001b[39misinstance\u001b[39m(fut\u001b[39m.\u001b[39mexception(), TryAgain)\n\u001b[1;32m    313\u001b[0m \u001b[39mif\u001b[39;00m \u001b[39mnot\u001b[39;00m (is_explicit_retry \u001b[39mor\u001b[39;00m \u001b[39mself\u001b[39m\u001b[39m.\u001b[39mretry(retry_state)):\n\u001b[0;32m--> 314\u001b[0m     \u001b[39mreturn\u001b[39;00m fut\u001b[39m.\u001b[39;49mresult()\n\u001b[1;32m    316\u001b[0m \u001b[39mif\u001b[39;00m \u001b[39mself\u001b[39m\u001b[39m.\u001b[39mafter \u001b[39mis\u001b[39;00m \u001b[39mnot\u001b[39;00m \u001b[39mNone\u001b[39;00m:\n\u001b[1;32m    317\u001b[0m     \u001b[39mself\u001b[39m\u001b[39m.\u001b[39mafter(retry_state)\n",
      "File \u001b[0;32m~/miniforge3/envs/env-langchain/lib/python3.8/concurrent/futures/_base.py:437\u001b[0m, in \u001b[0;36mFuture.result\u001b[0;34m(self, timeout)\u001b[0m\n\u001b[1;32m    435\u001b[0m     \u001b[39mraise\u001b[39;00m CancelledError()\n\u001b[1;32m    436\u001b[0m \u001b[39melif\u001b[39;00m \u001b[39mself\u001b[39m\u001b[39m.\u001b[39m_state \u001b[39m==\u001b[39m FINISHED:\n\u001b[0;32m--> 437\u001b[0m     \u001b[39mreturn\u001b[39;00m \u001b[39mself\u001b[39;49m\u001b[39m.\u001b[39;49m__get_result()\n\u001b[1;32m    439\u001b[0m \u001b[39mself\u001b[39m\u001b[39m.\u001b[39m_condition\u001b[39m.\u001b[39mwait(timeout)\n\u001b[1;32m    441\u001b[0m \u001b[39mif\u001b[39;00m \u001b[39mself\u001b[39m\u001b[39m.\u001b[39m_state \u001b[39min\u001b[39;00m [CANCELLED, CANCELLED_AND_NOTIFIED]:\n",
      "File \u001b[0;32m~/miniforge3/envs/env-langchain/lib/python3.8/concurrent/futures/_base.py:389\u001b[0m, in \u001b[0;36mFuture.__get_result\u001b[0;34m(self)\u001b[0m\n\u001b[1;32m    387\u001b[0m \u001b[39mif\u001b[39;00m \u001b[39mself\u001b[39m\u001b[39m.\u001b[39m_exception:\n\u001b[1;32m    388\u001b[0m     \u001b[39mtry\u001b[39;00m:\n\u001b[0;32m--> 389\u001b[0m         \u001b[39mraise\u001b[39;00m \u001b[39mself\u001b[39m\u001b[39m.\u001b[39m_exception\n\u001b[1;32m    390\u001b[0m     \u001b[39mfinally\u001b[39;00m:\n\u001b[1;32m    391\u001b[0m         \u001b[39m# Break a reference cycle with the exception in self._exception\u001b[39;00m\n\u001b[1;32m    392\u001b[0m         \u001b[39mself\u001b[39m \u001b[39m=\u001b[39m \u001b[39mNone\u001b[39;00m\n",
      "File \u001b[0;32m~/miniforge3/envs/env-langchain/lib/python3.8/site-packages/tenacity/__init__.py:382\u001b[0m, in \u001b[0;36mRetrying.__call__\u001b[0;34m(self, fn, *args, **kwargs)\u001b[0m\n\u001b[1;32m    380\u001b[0m \u001b[39mif\u001b[39;00m \u001b[39misinstance\u001b[39m(do, DoAttempt):\n\u001b[1;32m    381\u001b[0m     \u001b[39mtry\u001b[39;00m:\n\u001b[0;32m--> 382\u001b[0m         result \u001b[39m=\u001b[39m fn(\u001b[39m*\u001b[39;49margs, \u001b[39m*\u001b[39;49m\u001b[39m*\u001b[39;49mkwargs)\n\u001b[1;32m    383\u001b[0m     \u001b[39mexcept\u001b[39;00m \u001b[39mBaseException\u001b[39;00m:  \u001b[39m# noqa: B902\u001b[39;00m\n\u001b[1;32m    384\u001b[0m         retry_state\u001b[39m.\u001b[39mset_exception(sys\u001b[39m.\u001b[39mexc_info())  \u001b[39m# type: ignore[arg-type]\u001b[39;00m\n",
      "File \u001b[0;32m~/miniforge3/envs/env-langchain/lib/python3.8/site-packages/langchain/llms/openai.py:96\u001b[0m, in \u001b[0;36mcompletion_with_retry.<locals>._completion_with_retry\u001b[0;34m(**kwargs)\u001b[0m\n\u001b[1;32m     94\u001b[0m \u001b[39m@retry_decorator\u001b[39m\n\u001b[1;32m     95\u001b[0m \u001b[39mdef\u001b[39;00m \u001b[39m_completion_with_retry\u001b[39m(\u001b[39m*\u001b[39m\u001b[39m*\u001b[39mkwargs: Any) \u001b[39m-\u001b[39m\u001b[39m>\u001b[39m Any:\n\u001b[0;32m---> 96\u001b[0m     \u001b[39mreturn\u001b[39;00m llm\u001b[39m.\u001b[39;49mclient\u001b[39m.\u001b[39;49mcreate(\u001b[39m*\u001b[39;49m\u001b[39m*\u001b[39;49mkwargs)\n",
      "File \u001b[0;32m~/miniforge3/envs/env-langchain/lib/python3.8/site-packages/openai/api_resources/completion.py:25\u001b[0m, in \u001b[0;36mCompletion.create\u001b[0;34m(cls, *args, **kwargs)\u001b[0m\n\u001b[1;32m     23\u001b[0m \u001b[39mwhile\u001b[39;00m \u001b[39mTrue\u001b[39;00m:\n\u001b[1;32m     24\u001b[0m     \u001b[39mtry\u001b[39;00m:\n\u001b[0;32m---> 25\u001b[0m         \u001b[39mreturn\u001b[39;00m \u001b[39msuper\u001b[39;49m()\u001b[39m.\u001b[39;49mcreate(\u001b[39m*\u001b[39;49margs, \u001b[39m*\u001b[39;49m\u001b[39m*\u001b[39;49mkwargs)\n\u001b[1;32m     26\u001b[0m     \u001b[39mexcept\u001b[39;00m TryAgain \u001b[39mas\u001b[39;00m e:\n\u001b[1;32m     27\u001b[0m         \u001b[39mif\u001b[39;00m timeout \u001b[39mis\u001b[39;00m \u001b[39mnot\u001b[39;00m \u001b[39mNone\u001b[39;00m \u001b[39mand\u001b[39;00m time\u001b[39m.\u001b[39mtime() \u001b[39m>\u001b[39m start \u001b[39m+\u001b[39m timeout:\n",
      "File \u001b[0;32m~/miniforge3/envs/env-langchain/lib/python3.8/site-packages/openai/api_resources/abstract/engine_api_resource.py:153\u001b[0m, in \u001b[0;36mEngineAPIResource.create\u001b[0;34m(cls, api_key, api_base, api_type, request_id, api_version, organization, **params)\u001b[0m\n\u001b[1;32m    127\u001b[0m \u001b[39m@classmethod\u001b[39m\n\u001b[1;32m    128\u001b[0m \u001b[39mdef\u001b[39;00m \u001b[39mcreate\u001b[39m(\n\u001b[1;32m    129\u001b[0m     \u001b[39mcls\u001b[39m,\n\u001b[0;32m   (...)\u001b[0m\n\u001b[1;32m    136\u001b[0m     \u001b[39m*\u001b[39m\u001b[39m*\u001b[39mparams,\n\u001b[1;32m    137\u001b[0m ):\n\u001b[1;32m    138\u001b[0m     (\n\u001b[1;32m    139\u001b[0m         deployment_id,\n\u001b[1;32m    140\u001b[0m         engine,\n\u001b[0;32m   (...)\u001b[0m\n\u001b[1;32m    150\u001b[0m         api_key, api_base, api_type, api_version, organization, \u001b[39m*\u001b[39m\u001b[39m*\u001b[39mparams\n\u001b[1;32m    151\u001b[0m     )\n\u001b[0;32m--> 153\u001b[0m     response, _, api_key \u001b[39m=\u001b[39m requestor\u001b[39m.\u001b[39;49mrequest(\n\u001b[1;32m    154\u001b[0m         \u001b[39m\"\u001b[39;49m\u001b[39mpost\u001b[39;49m\u001b[39m\"\u001b[39;49m,\n\u001b[1;32m    155\u001b[0m         url,\n\u001b[1;32m    156\u001b[0m         params\u001b[39m=\u001b[39;49mparams,\n\u001b[1;32m    157\u001b[0m         headers\u001b[39m=\u001b[39;49mheaders,\n\u001b[1;32m    158\u001b[0m         stream\u001b[39m=\u001b[39;49mstream,\n\u001b[1;32m    159\u001b[0m         request_id\u001b[39m=\u001b[39;49mrequest_id,\n\u001b[1;32m    160\u001b[0m         request_timeout\u001b[39m=\u001b[39;49mrequest_timeout,\n\u001b[1;32m    161\u001b[0m     )\n\u001b[1;32m    163\u001b[0m     \u001b[39mif\u001b[39;00m stream:\n\u001b[1;32m    164\u001b[0m         \u001b[39m# must be an iterator\u001b[39;00m\n\u001b[1;32m    165\u001b[0m         \u001b[39massert\u001b[39;00m \u001b[39mnot\u001b[39;00m \u001b[39misinstance\u001b[39m(response, OpenAIResponse)\n",
      "File \u001b[0;32m~/miniforge3/envs/env-langchain/lib/python3.8/site-packages/openai/api_requestor.py:226\u001b[0m, in \u001b[0;36mAPIRequestor.request\u001b[0;34m(self, method, url, params, headers, files, stream, request_id, request_timeout)\u001b[0m\n\u001b[1;32m    205\u001b[0m \u001b[39mdef\u001b[39;00m \u001b[39mrequest\u001b[39m(\n\u001b[1;32m    206\u001b[0m     \u001b[39mself\u001b[39m,\n\u001b[1;32m    207\u001b[0m     method,\n\u001b[0;32m   (...)\u001b[0m\n\u001b[1;32m    214\u001b[0m     request_timeout: Optional[Union[\u001b[39mfloat\u001b[39m, Tuple[\u001b[39mfloat\u001b[39m, \u001b[39mfloat\u001b[39m]]] \u001b[39m=\u001b[39m \u001b[39mNone\u001b[39;00m,\n\u001b[1;32m    215\u001b[0m ) \u001b[39m-\u001b[39m\u001b[39m>\u001b[39m Tuple[Union[OpenAIResponse, Iterator[OpenAIResponse]], \u001b[39mbool\u001b[39m, \u001b[39mstr\u001b[39m]:\n\u001b[1;32m    216\u001b[0m     result \u001b[39m=\u001b[39m \u001b[39mself\u001b[39m\u001b[39m.\u001b[39mrequest_raw(\n\u001b[1;32m    217\u001b[0m         method\u001b[39m.\u001b[39mlower(),\n\u001b[1;32m    218\u001b[0m         url,\n\u001b[0;32m   (...)\u001b[0m\n\u001b[1;32m    224\u001b[0m         request_timeout\u001b[39m=\u001b[39mrequest_timeout,\n\u001b[1;32m    225\u001b[0m     )\n\u001b[0;32m--> 226\u001b[0m     resp, got_stream \u001b[39m=\u001b[39m \u001b[39mself\u001b[39;49m\u001b[39m.\u001b[39;49m_interpret_response(result, stream)\n\u001b[1;32m    227\u001b[0m     \u001b[39mreturn\u001b[39;00m resp, got_stream, \u001b[39mself\u001b[39m\u001b[39m.\u001b[39mapi_key\n",
      "File \u001b[0;32m~/miniforge3/envs/env-langchain/lib/python3.8/site-packages/openai/api_requestor.py:619\u001b[0m, in \u001b[0;36mAPIRequestor._interpret_response\u001b[0;34m(self, result, stream)\u001b[0m\n\u001b[1;32m    611\u001b[0m     \u001b[39mreturn\u001b[39;00m (\n\u001b[1;32m    612\u001b[0m         \u001b[39mself\u001b[39m\u001b[39m.\u001b[39m_interpret_response_line(\n\u001b[1;32m    613\u001b[0m             line, result\u001b[39m.\u001b[39mstatus_code, result\u001b[39m.\u001b[39mheaders, stream\u001b[39m=\u001b[39m\u001b[39mTrue\u001b[39;00m\n\u001b[1;32m    614\u001b[0m         )\n\u001b[1;32m    615\u001b[0m         \u001b[39mfor\u001b[39;00m line \u001b[39min\u001b[39;00m parse_stream(result\u001b[39m.\u001b[39miter_lines())\n\u001b[1;32m    616\u001b[0m     ), \u001b[39mTrue\u001b[39;00m\n\u001b[1;32m    617\u001b[0m \u001b[39melse\u001b[39;00m:\n\u001b[1;32m    618\u001b[0m     \u001b[39mreturn\u001b[39;00m (\n\u001b[0;32m--> 619\u001b[0m         \u001b[39mself\u001b[39;49m\u001b[39m.\u001b[39;49m_interpret_response_line(\n\u001b[1;32m    620\u001b[0m             result\u001b[39m.\u001b[39;49mcontent\u001b[39m.\u001b[39;49mdecode(\u001b[39m\"\u001b[39;49m\u001b[39mutf-8\u001b[39;49m\u001b[39m\"\u001b[39;49m),\n\u001b[1;32m    621\u001b[0m             result\u001b[39m.\u001b[39;49mstatus_code,\n\u001b[1;32m    622\u001b[0m             result\u001b[39m.\u001b[39;49mheaders,\n\u001b[1;32m    623\u001b[0m             stream\u001b[39m=\u001b[39;49m\u001b[39mFalse\u001b[39;49;00m,\n\u001b[1;32m    624\u001b[0m         ),\n\u001b[1;32m    625\u001b[0m         \u001b[39mFalse\u001b[39;00m,\n\u001b[1;32m    626\u001b[0m     )\n",
      "File \u001b[0;32m~/miniforge3/envs/env-langchain/lib/python3.8/site-packages/openai/api_requestor.py:679\u001b[0m, in \u001b[0;36mAPIRequestor._interpret_response_line\u001b[0;34m(self, rbody, rcode, rheaders, stream)\u001b[0m\n\u001b[1;32m    677\u001b[0m stream_error \u001b[39m=\u001b[39m stream \u001b[39mand\u001b[39;00m \u001b[39m\"\u001b[39m\u001b[39merror\u001b[39m\u001b[39m\"\u001b[39m \u001b[39min\u001b[39;00m resp\u001b[39m.\u001b[39mdata\n\u001b[1;32m    678\u001b[0m \u001b[39mif\u001b[39;00m stream_error \u001b[39mor\u001b[39;00m \u001b[39mnot\u001b[39;00m \u001b[39m200\u001b[39m \u001b[39m<\u001b[39m\u001b[39m=\u001b[39m rcode \u001b[39m<\u001b[39m \u001b[39m300\u001b[39m:\n\u001b[0;32m--> 679\u001b[0m     \u001b[39mraise\u001b[39;00m \u001b[39mself\u001b[39m\u001b[39m.\u001b[39mhandle_error_response(\n\u001b[1;32m    680\u001b[0m         rbody, rcode, resp\u001b[39m.\u001b[39mdata, rheaders, stream_error\u001b[39m=\u001b[39mstream_error\n\u001b[1;32m    681\u001b[0m     )\n\u001b[1;32m    682\u001b[0m \u001b[39mreturn\u001b[39;00m resp\n",
      "\u001b[0;31mInvalidRequestError\u001b[0m: This model's maximum context length is 4097 tokens, however you requested 7843 tokens (7587 in your prompt; 256 for the completion). Please reduce your prompt; or completion length."
     ]
    }
   ],
   "source": [
    "chain = load_qa_with_sources_chain(OpenAI(temperature=0), chain_type=\"stuff\")\n",
    "\n",
    "chain({\"input_documents\": docs, \"question\": query}, return_only_outputs=True)"
   ]
  }
 ],
 "metadata": {
  "kernelspec": {
   "display_name": "env-langchain",
   "language": "python",
   "name": "python3"
  },
  "language_info": {
   "codemirror_mode": {
    "name": "ipython",
    "version": 3
   },
   "file_extension": ".py",
   "mimetype": "text/x-python",
   "name": "python",
   "nbconvert_exporter": "python",
   "pygments_lexer": "ipython3",
   "version": "3.8.13"
  },
  "orig_nbformat": 4,
  "vscode": {
   "interpreter": {
    "hash": "3a0234c185afe6bce0b04d760ebcfcccabf6e82886a724a09a235b58ec9df589"
   }
  }
 },
 "nbformat": 4,
 "nbformat_minor": 2
}
